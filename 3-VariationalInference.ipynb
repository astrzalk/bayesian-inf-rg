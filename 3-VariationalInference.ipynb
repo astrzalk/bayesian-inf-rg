{
 "cells": [
  {
   "cell_type": "markdown",
   "metadata": {},
   "source": [
    "# Week 4: Variational Inference\n",
    "\n",
    "\n",
    "## One-line summary\n",
    "\n",
    "VI = a method of approximating model posterior which would otherwise be difficult to work with directly. \n",
    "\n",
    "## 3 Steps of VI\n",
    "\n",
    "- Step1: Define a distribution $q_{\\theta} (w)$, which you can control. \n",
    "- Step2: minimize $KL(q_{\\theta}(w) || p(w|X,Y))$\n",
    "- Step3: Use $q_{\\theta} (w)$ instead of $p(w|X,Y)$ to calculate the predictive distribution of interest:\n",
    "\n",
    "$$\n",
    "p(y^* | X^*, X, y) = \\int_w p(y^* | X^*, w) p(w|X,Y) dw \\\\\n",
    "$$\n",
    "now becoems\n",
    "$$\n",
    "q(y^*| X^*) = \\int_w p(y^* | x^*, w) q(w) dw   \n",
    "$$\n",
    "\n",
    "## Motivation\n",
    "\n",
    "MCMC = Computationally hard \n",
    "Variational Inference = Computationally easy because it's approximation\n",
    "\n",
    "-> Combined with Neural Network => Variational AutoEncoder\n",
    "\n",
    "-> Combined with Graphical Model => Blei's old work (Mean-field approximation to the $q(w)$ distribution. \n",
    "\n",
    "\n",
    "## How do we learn the distribution (a.k.a what's our objective function)? \n",
    "\n",
    "Big picture: Minimizing $KL(q_{\\theta}(w) || p(w|X,Y))$ is equivalent to maximizing the log-evidence lower bound:\n",
    "\n",
    "$$\n",
    "L_{VI} (\\theta) = \\int q_{\\theta}(w) \\log p(Y|X,w) dw - KL(q_{\\theta} (w) || p(w)) \n",
    "$$\n",
    "\n",
    "Note that evaluating $\\int q_{\\theta}(w) \\log p(Y|X,w) dw$ requires the calculation of the entire dataset. \n",
    "\n"
   ]
  },
  {
   "cell_type": "markdown",
   "metadata": {},
   "source": [
    "$$\n",
    "p(w|X,Y) = \\frac{p(Y|X,w)p(w)}{p(X)}\n",
    "$$"
   ]
  },
  {
   "cell_type": "markdown",
   "metadata": {},
   "source": [
    "$$\n",
    "\\log p(X) = \\log \\int p(X|Z) p(Z) dz \\frac{p(Z)}{p(Z)}     \\\\\n",
    "\\geq \\int \\log p(X|Z) p(z) dz \\frac{p(Z)}{p(Z)}  \n",
    "$$"
   ]
  },
  {
   "cell_type": "markdown",
   "metadata": {},
   "source": [
    "This means we have somes issues:\n",
    "\n",
    "1. Huge N? \n",
    "2. integral? \n",
    "\n",
    "No problem. We just approximate everything. For 1, we just use subset of the dataset. For 2, we just use monte carlo approximation:\n",
    "\n",
    "MC estimates for integral:\n",
    "\n",
    "$$\n",
    "\\int f(x; w) p(w) dw \\approx \\sum_{t=1}^T f(x; w_t),  w_t \\sim p(w)\n",
    "$$\n",
    "\n",
    "\n",
    "## Two ways of estimating the q distribution\n",
    "\n",
    "1. Use NN\n",
    "2. Use Mean-Field Approximation (graphical model) \n",
    "\n",
    "For 1. it requires the calculation of gradient of the objective function.\n",
    "For 2. Usually the Mean-field assumption makes it easy / allows us to find analytical solution of the coordinate ascent update. \n",
    "\n",
    "\n",
    "## 1. NN\n",
    "\n",
    "We need something called Reparametrization Trick, which allows us to do backpropagation through Monte Carlo samples, which is amazing, really amazing.\n",
    "\n",
    "## 2. Blei stuff\n",
    "\n",
    "You just need to do a bunch of calculation to find the update equation. \n",
    "I mean, you put Mean-Field assumption, which makes the problem easier, but restrict its application. "
   ]
  },
  {
   "cell_type": "markdown",
   "metadata": {},
   "source": [
    "$$\n",
    "q_{\\mu, \\sigma^2}(w) = N(\\mu, \\sigma^2) = f(\\mu, \\sigma) = \\mu + z * \\sigma, z \\sim N(0,1) \n",
    "$$"
   ]
  },
  {
   "cell_type": "code",
   "execution_count": null,
   "metadata": {
    "collapsed": true
   },
   "outputs": [],
   "source": []
  }
 ],
 "metadata": {
  "kernelspec": {
   "display_name": "Python 3",
   "language": "python",
   "name": "python3"
  },
  "language_info": {
   "codemirror_mode": {
    "name": "ipython",
    "version": 3
   },
   "file_extension": ".py",
   "mimetype": "text/x-python",
   "name": "python",
   "nbconvert_exporter": "python",
   "pygments_lexer": "ipython3",
   "version": "3.5.2"
  }
 },
 "nbformat": 4,
 "nbformat_minor": 2
}
